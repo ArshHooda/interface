{
 "cells": [
  {
   "cell_type": "code",
   "execution_count": null,
   "id": "00f03319-aeac-41a9-96ac-2c17a81f0248",
   "metadata": {},
   "outputs": [],
   "source": [
    "pip install gradio"
   ]
  },
  {
   "cell_type": "code",
   "execution_count": null,
   "id": "28ec683c-48d5-48fc-8a61-7b55f55de3da",
   "metadata": {},
   "outputs": [],
   "source": [
    "import gradio as gr\n",
    "import joblib\n",
    "import pandas as pd\n",
    "\n",
    "# Load the model\n",
    "model = joblib.load('house_price_model.pkl')\n",
    "\n",
    "# Prediction function\n",
    "def predict(overall_qual, gr_liv_area, garage_cars, total_bsmt_sf):\n",
    "    input_data = pd.DataFrame({\n",
    "        'OverallQual': [overall_qual],\n",
    "        'GrLivArea': [gr_liv_area],\n",
    "        'GarageCars': [garage_cars],\n",
    "        'TotalBsmtSF': [total_bsmt_sf]\n",
    "    })\n",
    "    # Add missing columns with default values\n",
    "    for col in model.feature_names_in_:\n",
    "        if col not in input_data.columns:\n",
    "            input_data[col] = 0\n",
    "    # Reorder columns to match training data\n",
    "    input_data = input_data[model.feature_names_in_]\n",
    "    # Make prediction\n",
    "    prediction = model.predict(input_data)\n",
    "    return f\"Predicted Sale Price: ${prediction[0]:,.2f}\"\n",
    "\n",
    "# Gradio interface\n",
    "iface = gr.Interface(\n",
    "    fn=predict,\n",
    "    inputs=[\n",
    "        gr.Slider(1, 10, label=\"Overall Quality (1-10)\"),\n",
    "        gr.Number(label=\"Above Grade Living Area (sqft)\"),\n",
    "        gr.Slider(0, 4, label=\"Garage Car Capacity\"),\n",
    "        gr.Number(label=\"Total Basement Area (sqft)\")\n",
    "    ],\n",
    "    outputs=\"text\"\n",
    ")\n",
    "iface.launch()"
   ]
  },
  {
   "cell_type": "code",
   "execution_count": null,
   "id": "1c904067-95ce-4643-a8fc-169ac958e883",
   "metadata": {},
   "outputs": [],
   "source": [
    "streamlit run app.py"
   ]
  },
  {
   "cell_type": "code",
   "execution_count": null,
   "id": "7cfad921-29ec-44da-a3ba-da708a785da7",
   "metadata": {},
   "outputs": [],
   "source": []
  }
 ],
 "metadata": {
  "kernelspec": {
   "display_name": "Python [conda env:base] *",
   "language": "python",
   "name": "conda-base-py"
  },
  "language_info": {
   "codemirror_mode": {
    "name": "ipython",
    "version": 3
   },
   "file_extension": ".py",
   "mimetype": "text/x-python",
   "name": "python",
   "nbconvert_exporter": "python",
   "pygments_lexer": "ipython3",
   "version": "3.12.7"
  }
 },
 "nbformat": 4,
 "nbformat_minor": 5
}
